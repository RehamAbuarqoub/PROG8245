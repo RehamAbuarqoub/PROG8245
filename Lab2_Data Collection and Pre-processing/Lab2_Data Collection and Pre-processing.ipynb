{
 "cells": [
  {
   "cell_type": "markdown",
   "id": "4ff5f3d8",
   "metadata": {},
   "source": [
    "#### PROG8245 Machine Learning Programming\n",
    "#### Reham Abuarqoub 9062922"
   ]
  },
  {
   "cell_type": "markdown",
   "id": "5f6166cc",
   "metadata": {},
   "source": [
    "## Step 1: Hello, Data!\n",
    "I downloaded the dataset from https://archive.ics.uci.edu/dataset/352/online%2Bretail\n",
    "the data was  containing 541909 record, I took the first 500 record and save this file as online_retail_500.csv"
   ]
  },
  {
   "cell_type": "code",
   "execution_count": 1,
   "id": "1ed6a82c",
   "metadata": {},
   "outputs": [
    {
     "name": "stderr",
     "output_type": "stream",
     "text": [
      "<>:4: SyntaxWarning: invalid escape sequence '\\o'\n",
      "<>:4: SyntaxWarning: invalid escape sequence '\\o'\n",
      "C:\\Users\\RAJEH\\AppData\\Local\\Temp\\ipykernel_20944\\2902214595.py:4: SyntaxWarning: invalid escape sequence '\\o'\n",
      "  raw_data = pd.read_csv(\"data\\online_retail_500.csv\")\n"
     ]
    }
   ],
   "source": [
    "import pandas as pd\n",
    "\n",
    "# Load the CSV data file\n",
    "raw_data = pd.read_csv(\"data\\online_retail_500.csv\")\n",
    "\n",
    "# Show the first 3 rows\n",
    "raw_data.head(3)\n",
    "import pandas as pd\n",
    "\n",
    "\n"
   ]
  },
  {
   "cell_type": "markdown",
   "id": "19ab178e",
   "metadata": {},
   "source": [
    "## Step 2: Pick the Right Container\n",
    "We considered three options: `dict`, `namedtuple`, and a custom `class` called Transaction. this class offers the best flexibility and encapsulation for our transactions. It allows us to include methods like `.clean()` and `.total()` and easily extend functionality later."
   ]
  },
  {
   "cell_type": "markdown",
   "id": "5821117f",
   "metadata": {},
   "source": [
    "## Step 3: Transaction Class and OO data structure\n",
    "In this step, The class transaction, It's called when a new Transaction object is created.\n",
    "Clean method were created to check the date if it is string or not\n",
    "and method total used to calculate the total revenue."
   ]
  },
  {
   "cell_type": "code",
   "execution_count": 2,
   "id": "1c2637d7",
   "metadata": {},
   "outputs": [],
   "source": [
    "class Transaction:\n",
    "    def __init__(self, date, customer_id, product, price, quantity, coupon_code, shipping_city):\n",
    "        self.date = date\n",
    "        self.customer_id = customer_id\n",
    "        self.product = product\n",
    "        self.price = float(price)\n",
    "        self.quantity = int(quantity)\n",
    "        self.coupon_code = coupon_code\n",
    "        self.shipping_city = shipping_city\n",
    "        self.discount_percentage = 0  # Filled in later via metadata\n",
    "\n",
    "    def clean(self):\n",
    "        self.shipping_city = self.shipping_city.strip().title()\n",
    "        self.coupon_code = self.coupon_code.strip().upper() if pd.notna(self.coupon_code) else \"NONE\"\n",
    "\n",
    "    def apply_discount(self, coupon_lookup):\n",
    "        self.discount_percentage = coupon_lookup.get(self.coupon_code, 0)\n",
    "\n",
    "    def total(self):\n",
    "        discount_multiplier = 1 - (self.discount_percentage / 100)\n",
    "        return round(self.price * self.quantity * discount_multiplier, 2)"
   ]
  },
  {
   "cell_type": "markdown",
   "id": "ba09385f",
   "metadata": {},
   "source": [
    "## Step 4: Bulk Loader\n",
    "In this step, the function `load_transactions` has been created to return a list of Transaction objects.\n",
    "`transactions = []` this list has been intiated to collect the processed objects. I used for loop to check each row in the dataframe.\n",
    "And because there is no Coupon code in my Dataset, I craeted a synthetic dataset and named it metadata."
   ]
  },
  {
   "cell_type": "code",
   "execution_count": 3,
   "id": "1676e52c",
   "metadata": {},
   "outputs": [],
   "source": [
    "from typing import List\n",
    "\n",
    "def load_transactions(df: pd.DataFrame) -> List[Transaction]:\n",
    "    transactions = []\n",
    "    for _, row in df.iterrows():\n",
    "        # Synthetic coupon code: if last digit of InvoiceNo is even, use 'DISCOUNT10', else 'NONE'\n",
    "        invoice_no = str(row['InvoiceNo'])\n",
    "        coupon_code = 'DISCOUNT10' if invoice_no[-1].isdigit() and int(invoice_no[-1]) % 2 == 0 else 'NONE'\n",
    "        t = Transaction(\n",
    "            row['InvoiceDate'], row['CustomerID'], row['Description'], row['UnitPrice'], row['Quantity'],\n",
    "            coupon_code, row['Country']\n",
    "        )\n",
    "        transactions.append(t)\n",
    "    return transactions\n",
    "\n",
    "transactions = load_transactions(raw_data)"
   ]
  },
  {
   "cell_type": "markdown",
   "id": "ed11f23e",
   "metadata": {},
   "source": [
    "## Step 5: Quick Profiling\n",
    "Calculate min/mean/max of Price\n",
    "Count of unique shipping_city"
   ]
  },
  {
   "cell_type": "code",
   "execution_count": 4,
   "id": "feb782ea",
   "metadata": {},
   "outputs": [
    {
     "name": "stdout",
     "output_type": "stream",
     "text": [
      "Min price: 0.1\n",
      "Max price: 165.0\n",
      "Average price: 3.60888\n",
      "Unique cities: 4\n"
     ]
    }
   ],
   "source": [
    "prices = [t.price for t in transactions]\n",
    "cities = set(t.shipping_city for t in transactions)\n",
    "\n",
    "print(\"Min price:\", min(prices))\n",
    "print(\"Max price:\", max(prices))\n",
    "print(\"Average price:\", sum(prices)/len(prices))\n",
    "print(\"Unique cities:\", len(cities))"
   ]
  },
  {
   "cell_type": "markdown",
   "id": "c710f752",
   "metadata": {},
   "source": [
    "## Step 6: Spot the Grime\n",
    "\n",
    " - Extra spaces in city names\n",
    " - Mixed case in coupon codes\n",
    " - Some missing coupon codes"
   ]
  },
  {
   "cell_type": "markdown",
   "id": "eec43acd",
   "metadata": {},
   "source": [
    "## Step 7: Cleaning Rules\n",
    "We can see the city names are correct"
   ]
  },
  {
   "cell_type": "code",
   "execution_count": 5,
   "id": "a6222bdb",
   "metadata": {},
   "outputs": [
    {
     "name": "stdout",
     "output_type": "stream",
     "text": [
      "Before: ['United Kingdom', 'United Kingdom', 'United Kingdom', 'United Kingdom', 'United Kingdom']\n",
      "After: ['United Kingdom', 'United Kingdom', 'United Kingdom', 'United Kingdom', 'United Kingdom']\n"
     ]
    }
   ],
   "source": [
    "before_clean = [t.shipping_city for t in transactions[:5]]\n",
    "\n",
    "for t in transactions:\n",
    "    t.clean()\n",
    "\n",
    "after_clean = [t.shipping_city for t in transactions[:5]]\n",
    "print(\"Before:\", before_clean)\n",
    "print(\"After:\", after_clean)\n"
   ]
  },
  {
   "cell_type": "markdown",
   "id": "bc2f1e67",
   "metadata": {},
   "source": [
    "## Step 8: Transformations\n",
    "use  coupon_code to apply the discount on the price\n",
    "- it will create  a dictionary from the DataFrame. Then it will map each coupon code to its discount percentage.\n",
    "- terates through each Transaction object in the list transactions.\n",
    "\n",
    "Calls a method apply_discount() on each transaction.\n",
    "\n",
    "This method uses the coupon_lookup dictionary to:\n",
    "\n",
    "Check if the coupon_code used in that transaction exists in the dictionary.\n",
    "If yes, it calculates the discount and stores it in an attribute."
   ]
  },
  {
   "cell_type": "code",
   "execution_count": null,
   "id": "a48dac86",
   "metadata": {},
   "outputs": [
    {
     "name": "stderr",
     "output_type": "stream",
     "text": [
      "<>:2: SyntaxWarning: invalid escape sequence '\\c'\n",
      "<>:2: SyntaxWarning: invalid escape sequence '\\c'\n",
      "C:\\Users\\RAJEH\\AppData\\Local\\Temp\\ipykernel_20944\\1735347832.py:2: SyntaxWarning: invalid escape sequence '\\c'\n",
      "  coupon_df = pd.read_csv(\"data\\coupon_metadata.csv\")\n"
     ]
    }
   ],
   "source": [
    "# Load coupon metadata to apply discounts from coupon codes\n",
    "coupon_df = pd.read_csv(\"data\\coupon_metadata.csv\")\n",
    "coupon_lookup = dict(zip(coupon_df['coupon_code'], coupon_df['discount_percentage']))\n",
    "\n",
    "for t in transactions:\n",
    "    t.apply_discount(coupon_lookup)"
   ]
  },
  {
   "cell_type": "markdown",
   "id": "b2ba3192",
   "metadata": {},
   "source": [
    "## Step 9: Feature Engineering\n",
    "In this step, I added feature days_since_purchase\n",
    "This will performing feature engineering by adding a new calculated field to each transaction: the number of days since the purchase happened.\n",
    "to calculate how many days ago each transaction occurred, a feature that can be useful for analysis"
   ]
  },
  {
   "cell_type": "code",
   "execution_count": 7,
   "id": "9729d37d",
   "metadata": {},
   "outputs": [],
   "source": [
    "from datetime import datetime\n",
    "\n",
    "for t in transactions:\n",
    "    t.date = pd.to_datetime(t.date)\n",
    "    t.days_since_purchase = (pd.Timestamp.today() - t.date).days"
   ]
  },
  {
   "cell_type": "markdown",
   "id": "c782c956",
   "metadata": {},
   "source": [
    "## Step 10: Mini-Aggregation\n"
   ]
  },
  {
   "cell_type": "markdown",
   "id": "71205023",
   "metadata": {},
   "source": [
    "> The small table below shows the total revenue after the total discount"
   ]
  },
  {
   "cell_type": "code",
   "execution_count": 8,
   "id": "8a211fc9",
   "metadata": {},
   "outputs": [
    {
     "data": {
      "application/vnd.microsoft.datawrangler.viewer.v0+json": {
       "columns": [
        {
         "name": "shipping_city",
         "rawType": "object",
         "type": "string"
        },
        {
         "name": "total",
         "rawType": "float64",
         "type": "float"
        }
       ],
       "ref": "0335cd43-beac-484f-949b-e20ee3df398d",
       "rows": [
        [
         "United Kingdom",
         "14440.67"
        ],
        [
         "France",
         "770.27"
        ],
        [
         "Australia",
         "358.25"
        ],
        [
         "Netherlands",
         "192.6"
        ]
       ],
       "shape": {
        "columns": 1,
        "rows": 4
       }
      },
      "text/html": [
       "<div>\n",
       "<style scoped>\n",
       "    .dataframe tbody tr th:only-of-type {\n",
       "        vertical-align: middle;\n",
       "    }\n",
       "\n",
       "    .dataframe tbody tr th {\n",
       "        vertical-align: top;\n",
       "    }\n",
       "\n",
       "    .dataframe thead th {\n",
       "        text-align: right;\n",
       "    }\n",
       "</style>\n",
       "<table border=\"1\" class=\"dataframe\">\n",
       "  <thead>\n",
       "    <tr style=\"text-align: right;\">\n",
       "      <th></th>\n",
       "      <th>total</th>\n",
       "    </tr>\n",
       "    <tr>\n",
       "      <th>shipping_city</th>\n",
       "      <th></th>\n",
       "    </tr>\n",
       "  </thead>\n",
       "  <tbody>\n",
       "    <tr>\n",
       "      <th>United Kingdom</th>\n",
       "      <td>14440.67</td>\n",
       "    </tr>\n",
       "    <tr>\n",
       "      <th>France</th>\n",
       "      <td>770.27</td>\n",
       "    </tr>\n",
       "    <tr>\n",
       "      <th>Australia</th>\n",
       "      <td>358.25</td>\n",
       "    </tr>\n",
       "    <tr>\n",
       "      <th>Netherlands</th>\n",
       "      <td>192.60</td>\n",
       "    </tr>\n",
       "  </tbody>\n",
       "</table>\n",
       "</div>"
      ],
      "text/plain": [
       "                   total\n",
       "shipping_city           \n",
       "United Kingdom  14440.67\n",
       "France            770.27\n",
       "Australia         358.25\n",
       "Netherlands       192.60"
      ]
     },
     "execution_count": 8,
     "metadata": {},
     "output_type": "execute_result"
    }
   ],
   "source": [
    "data = [{\n",
    "    'shipping_city': t.shipping_city,\n",
    "    'total': t.total()\n",
    "} for t in transactions]\n",
    "\n",
    "agg_df = pd.DataFrame(data)\n",
    "revenue_by_city = agg_df.groupby('shipping_city').sum().sort_values(by='total', ascending=False)\n",
    "revenue_by_city.head()"
   ]
  },
  {
   "cell_type": "markdown",
   "id": "8120bec5",
   "metadata": {},
   "source": [
    "I write these two scripts to check the price after applying the dicount coupon."
   ]
  },
  {
   "cell_type": "code",
   "execution_count": 9,
   "id": "e23fd29d",
   "metadata": {},
   "outputs": [],
   "source": [
    "for t in transactions:\n",
    "    t.apply_discount(coupon_lookup)\n"
   ]
  },
  {
   "cell_type": "code",
   "execution_count": 10,
   "id": "a6f4db19",
   "metadata": {},
   "outputs": [
    {
     "name": "stdout",
     "output_type": "stream",
     "text": [
      "Code: NONE        Discount:  0%  Original: $15.30  After: $15.30\n",
      "Code: NONE        Discount:  0%  Original: $20.34  After: $20.34\n",
      "Code: NONE        Discount:  0%  Original: $22.00  After: $22.00\n",
      "Code: NONE        Discount:  0%  Original: $20.34  After: $20.34\n",
      "Code: NONE        Discount:  0%  Original: $20.34  After: $20.34\n",
      "Code: NONE        Discount:  0%  Original: $15.30  After: $15.30\n",
      "Code: NONE        Discount:  0%  Original: $25.50  After: $25.50\n",
      "Code: DISCOUNT10  Discount: 10%  Original: $11.10  After: $9.99\n",
      "Code: DISCOUNT10  Discount: 10%  Original: $11.10  After: $9.99\n",
      "Code: NONE        Discount:  0%  Original: $54.08  After: $54.08\n"
     ]
    }
   ],
   "source": [
    "for t in transactions[:10]:\n",
    "    original = t.price * t.quantity\n",
    "    print(f\"Code: {t.coupon_code:10s}  Discount: {t.discount_percentage:>2d}%  \"\n",
    "          f\"Original: ${original:.2f}  After: ${t.total():.2f}\")\n"
   ]
  },
  {
   "cell_type": "markdown",
   "id": "58b4f70a",
   "metadata": {},
   "source": [
    "## Step 11: Serialization Checkpoint\n",
    "In this step, you can find the cleand data in .json and .parquet files stored in data folder."
   ]
  },
  {
   "cell_type": "code",
   "execution_count": 11,
   "id": "aa6ac18e",
   "metadata": {},
   "outputs": [
    {
     "name": "stderr",
     "output_type": "stream",
     "text": [
      "<>:16: SyntaxWarning: invalid escape sequence '\\c'\n",
      "<>:17: SyntaxWarning: invalid escape sequence '\\c'\n",
      "<>:16: SyntaxWarning: invalid escape sequence '\\c'\n",
      "<>:17: SyntaxWarning: invalid escape sequence '\\c'\n",
      "C:\\Users\\RAJEH\\AppData\\Local\\Temp\\ipykernel_20944\\2547689464.py:16: SyntaxWarning: invalid escape sequence '\\c'\n",
      "  cleaned_df.to_json(\"data\\cleaned_transactions.json\", orient='records', lines=True)\n",
      "C:\\Users\\RAJEH\\AppData\\Local\\Temp\\ipykernel_20944\\2547689464.py:17: SyntaxWarning: invalid escape sequence '\\c'\n",
      "  cleaned_df.to_parquet(\"data\\cleaned_transactions.parquet\")\n"
     ]
    }
   ],
   "source": [
    "# Convert all transactions to dict format\n",
    "cleaned_data = [{\n",
    "    'date': t.date.strftime('%Y-%m-%d'),\n",
    "    'customer_id': t.customer_id,\n",
    "    'product': t.product,\n",
    "    'price': t.price,\n",
    "    'quantity': t.quantity,\n",
    "    'coupon_code': t.coupon_code,\n",
    "    'shipping_city': t.shipping_city,\n",
    "    'discount_percentage': t.discount_percentage,\n",
    "    'total': t.total()\n",
    "} for t in transactions]\n",
    "\n",
    "cleaned_df = pd.DataFrame(cleaned_data)\n",
    "\n",
    "cleaned_df.to_json(\"data\\cleaned_transactions.json\", orient='records', lines=True)\n",
    "cleaned_df.to_parquet(\"data\\cleaned_transactions.parquet\")"
   ]
  },
  {
   "cell_type": "markdown",
   "id": "5baa6256",
   "metadata": {},
   "source": [
    "## Step 12: Soft Interview Reflection"
   ]
  },
  {
   "cell_type": "markdown",
   "id": "8dcd817e",
   "metadata": {},
   "source": [
    "Object-oriented programming enabled logical grouping of data and methods. By encapsulating cleaning and transformation logic in the `Transaction` class, we made the process reusable, testable, and modular. It simplified bulk processing by making transactions uniform and easy to work with.\n"
   ]
  },
  {
   "cell_type": "markdown",
   "id": "617973c6",
   "metadata": {},
   "source": [
    "## Data Dictionary\n",
    "\n",
    "| Field               | Type     | Description                      | Source              |\n",
    "|--------------------|----------|----------------------------------|---------------------|\n",
    "| date               | Date     | Date of purchase                 | online_retail_500.csv |\n",
    "| customer_id        | String   | Unique customer identifier       | online_retail_500.csv |\n",
    "| product            | String   | Product name                     | online_retail_500.csv |\n",
    "| price              | Float    | Price per unit                   | online_retail_500.csv |\n",
    "| quantity           | Integer  | Number of items purchased        | online_retail_500.csv |\n",
    "| coupon_code        | String   | Code for discount                | online_retail_500.csv |\n",
    "| shipping_city      | String   | Delivery destination             | online_retail_500.csv |\n",
    "| discount_percentage| Integer  | Discount based on coupon         | coupon_metadata.csv |\n",
    "| total              | Float    | Final price after discount       | derived             |\n"
   ]
  },
  {
   "cell_type": "markdown",
   "id": "40765463",
   "metadata": {},
   "source": [
    "I read the .json and .parquet files to see how the clean data looks"
   ]
  },
  {
   "cell_type": "code",
   "execution_count": 12,
   "id": "82dddaa7",
   "metadata": {},
   "outputs": [
    {
     "data": {
      "application/vnd.microsoft.datawrangler.viewer.v0+json": {
       "columns": [
        {
         "name": "index",
         "rawType": "int64",
         "type": "integer"
        },
        {
         "name": "date",
         "rawType": "object",
         "type": "string"
        },
        {
         "name": "customer_id",
         "rawType": "int64",
         "type": "integer"
        },
        {
         "name": "product",
         "rawType": "object",
         "type": "string"
        },
        {
         "name": "price",
         "rawType": "float64",
         "type": "float"
        },
        {
         "name": "quantity",
         "rawType": "int64",
         "type": "integer"
        },
        {
         "name": "coupon_code",
         "rawType": "object",
         "type": "string"
        },
        {
         "name": "shipping_city",
         "rawType": "object",
         "type": "string"
        },
        {
         "name": "discount_percentage",
         "rawType": "int64",
         "type": "integer"
        },
        {
         "name": "total",
         "rawType": "float64",
         "type": "float"
        }
       ],
       "ref": "de5311d6-d446-40fc-8877-b2dd02d31478",
       "rows": [
        [
         "0",
         "2010-12-01",
         "17850",
         "WHITE HANGING HEART T-LIGHT HOLDER",
         "2.55",
         "6",
         "NONE",
         "United Kingdom",
         "0",
         "15.3"
        ],
        [
         "1",
         "2010-12-01",
         "17850",
         "WHITE METAL LANTERN",
         "3.39",
         "6",
         "NONE",
         "United Kingdom",
         "0",
         "20.34"
        ],
        [
         "2",
         "2010-12-01",
         "17850",
         "CREAM CUPID HEARTS COAT HANGER",
         "2.75",
         "8",
         "NONE",
         "United Kingdom",
         "0",
         "22.0"
        ],
        [
         "3",
         "2010-12-01",
         "17850",
         "KNITTED UNION FLAG HOT WATER BOTTLE",
         "3.39",
         "6",
         "NONE",
         "United Kingdom",
         "0",
         "20.34"
        ],
        [
         "4",
         "2010-12-01",
         "17850",
         "RED WOOLLY HOTTIE WHITE HEART.",
         "3.39",
         "6",
         "NONE",
         "United Kingdom",
         "0",
         "20.34"
        ]
       ],
       "shape": {
        "columns": 9,
        "rows": 5
       }
      },
      "text/html": [
       "<div>\n",
       "<style scoped>\n",
       "    .dataframe tbody tr th:only-of-type {\n",
       "        vertical-align: middle;\n",
       "    }\n",
       "\n",
       "    .dataframe tbody tr th {\n",
       "        vertical-align: top;\n",
       "    }\n",
       "\n",
       "    .dataframe thead th {\n",
       "        text-align: right;\n",
       "    }\n",
       "</style>\n",
       "<table border=\"1\" class=\"dataframe\">\n",
       "  <thead>\n",
       "    <tr style=\"text-align: right;\">\n",
       "      <th></th>\n",
       "      <th>date</th>\n",
       "      <th>customer_id</th>\n",
       "      <th>product</th>\n",
       "      <th>price</th>\n",
       "      <th>quantity</th>\n",
       "      <th>coupon_code</th>\n",
       "      <th>shipping_city</th>\n",
       "      <th>discount_percentage</th>\n",
       "      <th>total</th>\n",
       "    </tr>\n",
       "  </thead>\n",
       "  <tbody>\n",
       "    <tr>\n",
       "      <th>0</th>\n",
       "      <td>2010-12-01</td>\n",
       "      <td>17850</td>\n",
       "      <td>WHITE HANGING HEART T-LIGHT HOLDER</td>\n",
       "      <td>2.55</td>\n",
       "      <td>6</td>\n",
       "      <td>NONE</td>\n",
       "      <td>United Kingdom</td>\n",
       "      <td>0</td>\n",
       "      <td>15.30</td>\n",
       "    </tr>\n",
       "    <tr>\n",
       "      <th>1</th>\n",
       "      <td>2010-12-01</td>\n",
       "      <td>17850</td>\n",
       "      <td>WHITE METAL LANTERN</td>\n",
       "      <td>3.39</td>\n",
       "      <td>6</td>\n",
       "      <td>NONE</td>\n",
       "      <td>United Kingdom</td>\n",
       "      <td>0</td>\n",
       "      <td>20.34</td>\n",
       "    </tr>\n",
       "    <tr>\n",
       "      <th>2</th>\n",
       "      <td>2010-12-01</td>\n",
       "      <td>17850</td>\n",
       "      <td>CREAM CUPID HEARTS COAT HANGER</td>\n",
       "      <td>2.75</td>\n",
       "      <td>8</td>\n",
       "      <td>NONE</td>\n",
       "      <td>United Kingdom</td>\n",
       "      <td>0</td>\n",
       "      <td>22.00</td>\n",
       "    </tr>\n",
       "    <tr>\n",
       "      <th>3</th>\n",
       "      <td>2010-12-01</td>\n",
       "      <td>17850</td>\n",
       "      <td>KNITTED UNION FLAG HOT WATER BOTTLE</td>\n",
       "      <td>3.39</td>\n",
       "      <td>6</td>\n",
       "      <td>NONE</td>\n",
       "      <td>United Kingdom</td>\n",
       "      <td>0</td>\n",
       "      <td>20.34</td>\n",
       "    </tr>\n",
       "    <tr>\n",
       "      <th>4</th>\n",
       "      <td>2010-12-01</td>\n",
       "      <td>17850</td>\n",
       "      <td>RED WOOLLY HOTTIE WHITE HEART.</td>\n",
       "      <td>3.39</td>\n",
       "      <td>6</td>\n",
       "      <td>NONE</td>\n",
       "      <td>United Kingdom</td>\n",
       "      <td>0</td>\n",
       "      <td>20.34</td>\n",
       "    </tr>\n",
       "  </tbody>\n",
       "</table>\n",
       "</div>"
      ],
      "text/plain": [
       "         date  customer_id                              product  price  \\\n",
       "0  2010-12-01        17850   WHITE HANGING HEART T-LIGHT HOLDER   2.55   \n",
       "1  2010-12-01        17850                  WHITE METAL LANTERN   3.39   \n",
       "2  2010-12-01        17850       CREAM CUPID HEARTS COAT HANGER   2.75   \n",
       "3  2010-12-01        17850  KNITTED UNION FLAG HOT WATER BOTTLE   3.39   \n",
       "4  2010-12-01        17850       RED WOOLLY HOTTIE WHITE HEART.   3.39   \n",
       "\n",
       "   quantity coupon_code   shipping_city  discount_percentage  total  \n",
       "0         6        NONE  United Kingdom                    0  15.30  \n",
       "1         6        NONE  United Kingdom                    0  20.34  \n",
       "2         8        NONE  United Kingdom                    0  22.00  \n",
       "3         6        NONE  United Kingdom                    0  20.34  \n",
       "4         6        NONE  United Kingdom                    0  20.34  "
      ]
     },
     "execution_count": 12,
     "metadata": {},
     "output_type": "execute_result"
    }
   ],
   "source": [
    "pd.read_json(\"data/cleaned_transactions.json\", lines=True).head()\n",
    "pd.read_parquet(\"data/cleaned_transactions.parquet\").head()\n"
   ]
  }
 ],
 "metadata": {
  "kernelspec": {
   "display_name": "Python 3",
   "language": "python",
   "name": "python3"
  },
  "language_info": {
   "codemirror_mode": {
    "name": "ipython",
    "version": 3
   },
   "file_extension": ".py",
   "mimetype": "text/x-python",
   "name": "python",
   "nbconvert_exporter": "python",
   "pygments_lexer": "ipython3",
   "version": "3.13.3"
  }
 },
 "nbformat": 4,
 "nbformat_minor": 5
}
